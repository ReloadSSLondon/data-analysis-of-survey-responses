{
 "cells": [
  {
   "cell_type": "code",
   "execution_count": 88,
   "id": "5e5e7bd8-18cc-4c13-bb66-51ee37f2da46",
   "metadata": {},
   "outputs": [],
   "source": [
    "import numpy as np\n",
    "import pandas as pd\n",
    "import matplotlib.pyplot as plt"
   ]
  },
  {
   "cell_type": "code",
   "execution_count": 89,
   "id": "b437258e-d866-4dd8-ae3e-6dfeb7496370",
   "metadata": {},
   "outputs": [
    {
     "data": {
      "text/html": [
       "<div>\n",
       "<style scoped>\n",
       "    .dataframe tbody tr th:only-of-type {\n",
       "        vertical-align: middle;\n",
       "    }\n",
       "\n",
       "    .dataframe tbody tr th {\n",
       "        vertical-align: top;\n",
       "    }\n",
       "\n",
       "    .dataframe thead th {\n",
       "        text-align: right;\n",
       "    }\n",
       "</style>\n",
       "<table border=\"1\" class=\"dataframe\">\n",
       "  <thead>\n",
       "    <tr style=\"text-align: right;\">\n",
       "      <th></th>\n",
       "      <th>Names</th>\n",
       "      <th>Have you used an RSS reader?</th>\n",
       "      <th>How long have you been using an RSS reader?</th>\n",
       "      <th>How many RSS feeds reader have you used in the past?</th>\n",
       "      <th>How frequently do you use the RSS feed reader?</th>\n",
       "      <th>What is your preferred platform for the RSS reader?</th>\n",
       "      <th>What is your preferred device?</th>\n",
       "      <th>Which method do you prefer for adding RSS feeds?</th>\n",
       "      <th>Number of Feed sources (websites, blogs, newsletters, magazine etc.) that you use the RSS reader to manage</th>\n",
       "      <th>Which features of the RSS reader do you currently like or will like to have?</th>\n",
       "      <th>Which features of an RSS reader are you likely to find unpleasant?</th>\n",
       "      <th>Can you explain if this app design is user-friendly?</th>\n",
       "      <th>Response Type</th>\n",
       "      <th>Network ID</th>\n",
       "      <th>Tags</th>\n",
       "    </tr>\n",
       "  </thead>\n",
       "  <tbody>\n",
       "    <tr>\n",
       "      <th>0</th>\n",
       "      <td>bfmhuc1rb2cr8tbfms9dl2o77lb0lois</td>\n",
       "      <td>Yes, I have used one in the past but not at th...</td>\n",
       "      <td>More than 2 years but less than 5 years</td>\n",
       "      <td>2</td>\n",
       "      <td>Several times in a day</td>\n",
       "      <td>Web Browser</td>\n",
       "      <td>Desktop</td>\n",
       "      <td>URL links</td>\n",
       "      <td>1</td>\n",
       "      <td>Grouping of feeds according to feed sources</td>\n",
       "      <td>Poor and extremely complicated user interface</td>\n",
       "      <td>Alternative Phrases</td>\n",
       "      <td>completed</td>\n",
       "      <td>87b2df75ed</td>\n",
       "      <td>NaN</td>\n",
       "    </tr>\n",
       "    <tr>\n",
       "      <th>1</th>\n",
       "      <td>323cerpby71tx029q8e3323cerqkqz07</td>\n",
       "      <td>NaN</td>\n",
       "      <td>Less than 2 years</td>\n",
       "      <td>1</td>\n",
       "      <td>Once in a day</td>\n",
       "      <td>Web Browser</td>\n",
       "      <td>Desktop</td>\n",
       "      <td>Social media #tags</td>\n",
       "      <td>Less than 5</td>\n",
       "      <td>Feature to mark an article as read or unread</td>\n",
       "      <td>Cluttered or badly organized content</td>\n",
       "      <td>The design lacks originality</td>\n",
       "      <td>completed</td>\n",
       "      <td>87b2df75ed</td>\n",
       "      <td>NaN</td>\n",
       "    </tr>\n",
       "  </tbody>\n",
       "</table>\n",
       "</div>"
      ],
      "text/plain": [
       "                              Names  \\\n",
       "0  bfmhuc1rb2cr8tbfms9dl2o77lb0lois   \n",
       "1  323cerpby71tx029q8e3323cerqkqz07   \n",
       "\n",
       "                        Have you used an RSS reader?  \\\n",
       "0  Yes, I have used one in the past but not at th...   \n",
       "1                                                NaN   \n",
       "\n",
       "  How long have you been using an RSS reader?  \\\n",
       "0     More than 2 years but less than 5 years   \n",
       "1                           Less than 2 years   \n",
       "\n",
       "   How many RSS feeds reader have you used in the past?  \\\n",
       "0                                                  2      \n",
       "1                                                  1      \n",
       "\n",
       "  How frequently do you use the RSS feed reader?  \\\n",
       "0                         Several times in a day   \n",
       "1                                  Once in a day   \n",
       "\n",
       "  What is your preferred platform for the RSS reader?  \\\n",
       "0                                        Web Browser    \n",
       "1                                        Web Browser    \n",
       "\n",
       "  What is your preferred device?  \\\n",
       "0                        Desktop   \n",
       "1                        Desktop   \n",
       "\n",
       "  Which method do you prefer for adding RSS feeds?  \\\n",
       "0                                        URL links   \n",
       "1                               Social media #tags   \n",
       "\n",
       "  Number of Feed sources (websites, blogs, newsletters, magazine etc.) that you use the RSS reader to manage  \\\n",
       "0                                                  1                                                           \n",
       "1                                        Less than 5                                                           \n",
       "\n",
       "  Which features of the RSS reader do you currently like or will like to have?  \\\n",
       "0        Grouping of feeds according to feed sources                             \n",
       "1       Feature to mark an article as read or unread                             \n",
       "\n",
       "  Which features of an RSS reader are you likely to find unpleasant?  \\\n",
       "0      Poor and extremely complicated user interface                   \n",
       "1               Cluttered or badly organized content                   \n",
       "\n",
       "  Can you explain if this app design is user-friendly? Response Type  \\\n",
       "0                                Alternative Phrases       completed   \n",
       "1                       The design lacks originality       completed   \n",
       "\n",
       "   Network ID  Tags  \n",
       "0  87b2df75ed   NaN  \n",
       "1  87b2df75ed   NaN  "
      ]
     },
     "execution_count": 89,
     "metadata": {},
     "output_type": "execute_result"
    }
   ],
   "source": [
    "df = pd.read_csv('RSS_project_survey_data.csv')\n",
    "df.head(2)"
   ]
  },
  {
   "cell_type": "code",
   "execution_count": 90,
   "id": "7c6c48df-71fe-4836-8f4a-23bd91bcbf30",
   "metadata": {},
   "outputs": [],
   "source": [
    "df.columns = df.columns.str.lower()"
   ]
  },
  {
   "cell_type": "code",
   "execution_count": 91,
   "id": "adb4d42f-756a-4529-8b7d-a4fe5e3deae4",
   "metadata": {},
   "outputs": [
    {
     "data": {
      "text/plain": [
       "Index(['names', 'have you used an rss reader?',\n",
       "       'how long have you been using an rss reader?',\n",
       "       'how many rss feeds reader have you used in the past?',\n",
       "       'how frequently do you use the rss feed reader?',\n",
       "       'what is your preferred platform for the rss reader?',\n",
       "       'what is your preferred device?',\n",
       "       'which method do you prefer for adding rss feeds?',\n",
       "       'number of feed sources (websites, blogs, newsletters, magazine etc.) that you use the rss reader to manage',\n",
       "       'which features of the rss reader do you currently like or will like to have?',\n",
       "       'which features of an rss reader are you likely to find unpleasant?',\n",
       "       'can you explain if this app design is user-friendly?', 'response type',\n",
       "       'network id', 'tags'],\n",
       "      dtype='object')"
      ]
     },
     "execution_count": 91,
     "metadata": {},
     "output_type": "execute_result"
    }
   ],
   "source": [
    "df.columns"
   ]
  },
  {
   "cell_type": "code",
   "execution_count": 92,
   "id": "a6eaa6ed-75d1-483f-9b04-26b9501a29ac",
   "metadata": {},
   "outputs": [],
   "source": [
    "df.drop(columns={'names','response type','network id', 'tags' }, inplace=True)"
   ]
  },
  {
   "cell_type": "code",
   "execution_count": 93,
   "id": "164c27cf-1983-435a-9c74-03b06d05c434",
   "metadata": {},
   "outputs": [
    {
     "data": {
      "text/html": [
       "<div>\n",
       "<style scoped>\n",
       "    .dataframe tbody tr th:only-of-type {\n",
       "        vertical-align: middle;\n",
       "    }\n",
       "\n",
       "    .dataframe tbody tr th {\n",
       "        vertical-align: top;\n",
       "    }\n",
       "\n",
       "    .dataframe thead th {\n",
       "        text-align: right;\n",
       "    }\n",
       "</style>\n",
       "<table border=\"1\" class=\"dataframe\">\n",
       "  <thead>\n",
       "    <tr style=\"text-align: right;\">\n",
       "      <th></th>\n",
       "      <th>have you used an rss reader?</th>\n",
       "      <th>how long have you been using an rss reader?</th>\n",
       "      <th>how many rss feeds reader have you used in the past?</th>\n",
       "      <th>how frequently do you use the rss feed reader?</th>\n",
       "      <th>what is your preferred platform for the rss reader?</th>\n",
       "      <th>what is your preferred device?</th>\n",
       "      <th>which method do you prefer for adding rss feeds?</th>\n",
       "      <th>number of feed sources (websites, blogs, newsletters, magazine etc.) that you use the rss reader to manage</th>\n",
       "      <th>which features of the rss reader do you currently like or will like to have?</th>\n",
       "      <th>which features of an rss reader are you likely to find unpleasant?</th>\n",
       "      <th>can you explain if this app design is user-friendly?</th>\n",
       "    </tr>\n",
       "  </thead>\n",
       "  <tbody>\n",
       "  </tbody>\n",
       "</table>\n",
       "</div>"
      ],
      "text/plain": [
       "Empty DataFrame\n",
       "Columns: [have you used an rss reader?, how long have you been using an rss reader?, how many rss feeds reader have you used in the past?, how frequently do you use the rss feed reader?, what is your preferred platform for the rss reader?, what is your preferred device?, which method do you prefer for adding rss feeds?, number of feed sources (websites, blogs, newsletters, magazine etc.) that you use the rss reader to manage, which features of the rss reader do you currently like or will like to have?, which features of an rss reader are you likely to find unpleasant?, can you explain if this app design is user-friendly?]\n",
       "Index: []"
      ]
     },
     "execution_count": 93,
     "metadata": {},
     "output_type": "execute_result"
    }
   ],
   "source": [
    "df.head(0)"
   ]
  },
  {
   "cell_type": "code",
   "execution_count": 94,
   "id": "5169b26e-9ebb-4fe4-a5f1-685d55c64d64",
   "metadata": {},
   "outputs": [
    {
     "data": {
      "text/plain": [
       "have you used an rss reader?                                                                                   3\n",
       "how long have you been using an rss reader?                                                                    3\n",
       "how many rss feeds reader have you used in the past?                                                           5\n",
       "how frequently do you use the rss feed reader?                                                                 4\n",
       "what is your preferred platform for the rss reader?                                                            4\n",
       "what is your preferred device?                                                                                 4\n",
       "which method do you prefer for adding rss feeds?                                                               4\n",
       "number of feed sources (websites, blogs, newsletters, magazine etc.) that you use the rss reader to manage     4\n",
       "which features of the rss reader do you currently like or will like to have?                                   4\n",
       "which features of an rss reader are you likely to find unpleasant?                                             4\n",
       "can you explain if this app design is user-friendly?                                                          35\n",
       "dtype: int64"
      ]
     },
     "execution_count": 94,
     "metadata": {},
     "output_type": "execute_result"
    }
   ],
   "source": [
    "df.nunique()"
   ]
  },
  {
   "cell_type": "code",
   "execution_count": 95,
   "id": "0887ad33-036a-4705-b314-0d63fd81921a",
   "metadata": {},
   "outputs": [
    {
     "data": {
      "text/plain": [
       "have you used an rss reader?                                                                                  1\n",
       "how long have you been using an rss reader?                                                                   0\n",
       "how many rss feeds reader have you used in the past?                                                          0\n",
       "how frequently do you use the rss feed reader?                                                                0\n",
       "what is your preferred platform for the rss reader?                                                           0\n",
       "what is your preferred device?                                                                                0\n",
       "which method do you prefer for adding rss feeds?                                                              0\n",
       "number of feed sources (websites, blogs, newsletters, magazine etc.) that you use the rss reader to manage    0\n",
       "which features of the rss reader do you currently like or will like to have?                                  0\n",
       "which features of an rss reader are you likely to find unpleasant?                                            0\n",
       "can you explain if this app design is user-friendly?                                                          0\n",
       "dtype: int64"
      ]
     },
     "execution_count": 95,
     "metadata": {},
     "output_type": "execute_result"
    }
   ],
   "source": [
    "df.isna().sum()"
   ]
  },
  {
   "cell_type": "markdown",
   "id": "d0cba339-855d-4bd3-8d58-955849469ca1",
   "metadata": {},
   "source": [
    "##### Investigate the column 'have you used an rss reader?' and filled NA"
   ]
  },
  {
   "cell_type": "code",
   "execution_count": 96,
   "id": "bfea7627-bd87-4717-8044-cec532b2791f",
   "metadata": {},
   "outputs": [
    {
     "data": {
      "text/plain": [
       "have you used an rss reader?\n",
       "Yes, I currently use one                                  13\n",
       "No, I have never used one                                 11\n",
       "Yes, I have used one in the past but not at the moment    10\n",
       "Name: count, dtype: int64"
      ]
     },
     "execution_count": 96,
     "metadata": {},
     "output_type": "execute_result"
    }
   ],
   "source": [
    "df.iloc[:, 0].value_counts()"
   ]
  },
  {
   "cell_type": "code",
   "execution_count": 97,
   "id": "c4b9a656-47fe-425e-9152-cd01a70554d8",
   "metadata": {},
   "outputs": [
    {
     "data": {
      "text/html": [
       "<div>\n",
       "<style scoped>\n",
       "    .dataframe tbody tr th:only-of-type {\n",
       "        vertical-align: middle;\n",
       "    }\n",
       "\n",
       "    .dataframe tbody tr th {\n",
       "        vertical-align: top;\n",
       "    }\n",
       "\n",
       "    .dataframe thead th {\n",
       "        text-align: right;\n",
       "    }\n",
       "</style>\n",
       "<table border=\"1\" class=\"dataframe\">\n",
       "  <thead>\n",
       "    <tr style=\"text-align: right;\">\n",
       "      <th></th>\n",
       "      <th>have you used an rss reader?</th>\n",
       "      <th>how long have you been using an rss reader?</th>\n",
       "      <th>how many rss feeds reader have you used in the past?</th>\n",
       "      <th>how frequently do you use the rss feed reader?</th>\n",
       "      <th>what is your preferred platform for the rss reader?</th>\n",
       "      <th>what is your preferred device?</th>\n",
       "      <th>which method do you prefer for adding rss feeds?</th>\n",
       "      <th>number of feed sources (websites, blogs, newsletters, magazine etc.) that you use the rss reader to manage</th>\n",
       "      <th>which features of the rss reader do you currently like or will like to have?</th>\n",
       "      <th>which features of an rss reader are you likely to find unpleasant?</th>\n",
       "      <th>can you explain if this app design is user-friendly?</th>\n",
       "    </tr>\n",
       "  </thead>\n",
       "  <tbody>\n",
       "    <tr>\n",
       "      <th>1</th>\n",
       "      <td>NaN</td>\n",
       "      <td>Less than 2 years</td>\n",
       "      <td>1</td>\n",
       "      <td>Once in a day</td>\n",
       "      <td>Web Browser</td>\n",
       "      <td>Desktop</td>\n",
       "      <td>Social media #tags</td>\n",
       "      <td>Less than 5</td>\n",
       "      <td>Feature to mark an article as read or unread</td>\n",
       "      <td>Cluttered or badly organized content</td>\n",
       "      <td>The design lacks originality</td>\n",
       "    </tr>\n",
       "  </tbody>\n",
       "</table>\n",
       "</div>"
      ],
      "text/plain": [
       "  have you used an rss reader? how long have you been using an rss reader?  \\\n",
       "1                          NaN                           Less than 2 years   \n",
       "\n",
       "   how many rss feeds reader have you used in the past?  \\\n",
       "1                                                  1      \n",
       "\n",
       "  how frequently do you use the rss feed reader?  \\\n",
       "1                                  Once in a day   \n",
       "\n",
       "  what is your preferred platform for the rss reader?  \\\n",
       "1                                        Web Browser    \n",
       "\n",
       "  what is your preferred device?  \\\n",
       "1                        Desktop   \n",
       "\n",
       "  which method do you prefer for adding rss feeds?  \\\n",
       "1                               Social media #tags   \n",
       "\n",
       "  number of feed sources (websites, blogs, newsletters, magazine etc.) that you use the rss reader to manage  \\\n",
       "1                                        Less than 5                                                           \n",
       "\n",
       "  which features of the rss reader do you currently like or will like to have?  \\\n",
       "1       Feature to mark an article as read or unread                             \n",
       "\n",
       "  which features of an rss reader are you likely to find unpleasant?  \\\n",
       "1               Cluttered or badly organized content                   \n",
       "\n",
       "  can you explain if this app design is user-friendly?  \n",
       "1                       The design lacks originality    "
      ]
     },
     "execution_count": 97,
     "metadata": {},
     "output_type": "execute_result"
    }
   ],
   "source": [
    "filter = df.iloc[:, 0].isna()\n",
    "df[filter]"
   ]
  },
  {
   "cell_type": "code",
   "execution_count": 98,
   "id": "dbd6f256-58d1-47ac-93dd-0518266d5ccf",
   "metadata": {},
   "outputs": [
    {
     "data": {
      "text/plain": [
       "0"
      ]
     },
     "execution_count": 98,
     "metadata": {},
     "output_type": "execute_result"
    }
   ],
   "source": [
    "df.iloc[1, 0] = 'Yes, I currently use one'\n",
    "# verify that there are no NA values in the dataframe\n",
    "df.isna().sum().sum()"
   ]
  },
  {
   "cell_type": "code",
   "execution_count": null,
   "id": "4d6e815f-b594-4a0f-b3ba-c8ea8889c8cc",
   "metadata": {},
   "outputs": [],
   "source": []
  }
 ],
 "metadata": {
  "kernelspec": {
   "display_name": "Python 3 (ipykernel)",
   "language": "python",
   "name": "python3"
  },
  "language_info": {
   "codemirror_mode": {
    "name": "ipython",
    "version": 3
   },
   "file_extension": ".py",
   "mimetype": "text/x-python",
   "name": "python",
   "nbconvert_exporter": "python",
   "pygments_lexer": "ipython3",
   "version": "3.11.6"
  }
 },
 "nbformat": 4,
 "nbformat_minor": 5
}
